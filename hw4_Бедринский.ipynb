{
  "nbformat": 4,
  "nbformat_minor": 0,
  "metadata": {
    "kernelspec": {
      "display_name": "Python 3",
      "language": "python",
      "name": "python3"
    },
    "language_info": {
      "codemirror_mode": {
        "name": "ipython",
        "version": 3
      },
      "file_extension": ".py",
      "mimetype": "text/x-python",
      "name": "python",
      "nbconvert_exporter": "python",
      "pygments_lexer": "ipython3",
      "version": "3.7.4"
    },
    "colab": {
      "name": "hw4_Бедринский.ipynb",
      "provenance": [],
      "collapsed_sections": []
    }
  },
  "cells": [
    {
      "cell_type": "markdown",
      "metadata": {
        "id": "EvJo6Cg0fS8u"
      },
      "source": [
        "# Задание 4"
      ]
    },
    {
      "cell_type": "code",
      "metadata": {
        "id": "ndcdPkX8l5a_"
      },
      "source": [
        "from collections.abc import Iterable\n",
        "import functools"
      ],
      "execution_count": null,
      "outputs": []
    },
    {
      "cell_type": "markdown",
      "metadata": {
        "id": "KXUzMO6NfS8w"
      },
      "source": [
        "## 1. Chainer (0.4 балла)\n",
        "\n",
        "Требуется реализовать функцию chainer, которая принимает на вход любое количество итерируемых объектов (в т.ч. контейнеров, которые тоже могут содержать итерируемые объекты) и возвращает список из всех элементов всех переданных контейнеров."
      ]
    },
    {
      "cell_type": "code",
      "metadata": {
        "id": "-wQC2CmefS8x"
      },
      "source": [
        "def chainer(*args):\n",
        "    elements = []\n",
        "\n",
        "    if len(args) > 0:\n",
        "        element = args[0]\n",
        "\n",
        "        if (not isinstance(element, Iterable)) or (isinstance(element, str) and (len(element) == 1)):\n",
        "            elements = [element, ]\n",
        "        else:\n",
        "            elements = chainer(*element)\n",
        "\n",
        "        elements += chainer(*args[1:])\n",
        "\n",
        "    return elements"
      ],
      "execution_count": null,
      "outputs": []
    },
    {
      "cell_type": "markdown",
      "metadata": {
        "id": "N4bUHkcbfS8x"
      },
      "source": [
        "Пример работы функции:"
      ]
    },
    {
      "cell_type": "code",
      "metadata": {
        "colab": {
          "base_uri": "https://localhost:8080/"
        },
        "id": "lmLqmurGgT_E",
        "outputId": "b17dc843-4fae-4873-eede-3aca15dfe59c"
      },
      "source": [
        "chainer(1, 2, 3)"
      ],
      "execution_count": null,
      "outputs": [
        {
          "output_type": "execute_result",
          "data": {
            "text/plain": [
              "[1, 2, 3]"
            ]
          },
          "metadata": {
            "tags": []
          },
          "execution_count": 82
        }
      ]
    },
    {
      "cell_type": "code",
      "metadata": {
        "colab": {
          "base_uri": "https://localhost:8080/"
        },
        "id": "SY25hKzCkV3F",
        "outputId": "d012e01d-8a15-4843-ea78-28e780715307"
      },
      "source": [
        "chainer()"
      ],
      "execution_count": null,
      "outputs": [
        {
          "output_type": "execute_result",
          "data": {
            "text/plain": [
              "[]"
            ]
          },
          "metadata": {
            "tags": []
          },
          "execution_count": 83
        }
      ]
    },
    {
      "cell_type": "code",
      "metadata": {
        "colab": {
          "base_uri": "https://localhost:8080/"
        },
        "id": "gjL2LadDfS8y",
        "outputId": "f9d554a0-763e-46a1-ea2b-079d319c271a"
      },
      "source": [
        "chainer([1, 2, 3], \"why\", [\"i need\", [\"do that\", [\"?\"]]])"
      ],
      "execution_count": null,
      "outputs": [
        {
          "output_type": "execute_result",
          "data": {
            "text/plain": [
              "[1,\n",
              " 2,\n",
              " 3,\n",
              " 'w',\n",
              " 'h',\n",
              " 'y',\n",
              " 'i',\n",
              " ' ',\n",
              " 'n',\n",
              " 'e',\n",
              " 'e',\n",
              " 'd',\n",
              " 'd',\n",
              " 'o',\n",
              " ' ',\n",
              " 't',\n",
              " 'h',\n",
              " 'a',\n",
              " 't',\n",
              " '?']"
            ]
          },
          "metadata": {
            "tags": []
          },
          "execution_count": 84
        }
      ]
    },
    {
      "cell_type": "markdown",
      "metadata": {
        "id": "qP5A5s-tfS8y"
      },
      "source": [
        "При этом запрещается использовать в коде конструкции циклов while и for."
      ]
    },
    {
      "cell_type": "markdown",
      "metadata": {
        "id": "N_LuoWE0fS8z"
      },
      "source": [
        "## 2. Dataflow (0.6 балла)\n",
        "\n",
        "В данном задании требуется написать обработчик генераторов, вычисляющих факториал. Для каждого генератора должна быть функция декоратор, которая инициализирует генератор."
      ]
    },
    {
      "cell_type": "code",
      "metadata": {
        "id": "U6J1lA6zfS8z"
      },
      "source": [
        "def coroutine(func):\n",
        "    @functools.wraps(func)\n",
        "    def wrapper(*args, **kwargs):\n",
        "        gen = func(*args, **kwargs)\n",
        "        gen.send(None)\n",
        "        return gen\n",
        "    return wrapper"
      ],
      "execution_count": null,
      "outputs": []
    },
    {
      "cell_type": "markdown",
      "metadata": {
        "id": "55KvhzLDfS8z"
      },
      "source": [
        "Функция генератор факториалов принимает на вход n - максимальный факториал, который может вычислить (n!)."
      ]
    },
    {
      "cell_type": "code",
      "metadata": {
        "id": "geahNpPIfS80"
      },
      "source": [
        "@coroutine\n",
        "def fact_generator(n):\n",
        "    fact = 1\n",
        "    for i in range(1, n + 2):\n",
        "        yield fact\n",
        "        fact = fact * i"
      ],
      "execution_count": null,
      "outputs": []
    },
    {
      "cell_type": "markdown",
      "metadata": {
        "id": "hZf5WyqAfS80"
      },
      "source": [
        "Пример:\n",
        "\n",
        "f10 = fact_generator(10)\n",
        "\n",
        "создает генератор, который при каждом вызове next(f10) возвращает текущее значение факториала, т. е.\n",
        "\n",
        "next(f10) # вернет 1\n",
        "\n",
        "next(f10) # вернет 2\n",
        "\n",
        "next(f10) # вернет 6\n",
        "\n",
        "...\n"
      ]
    },
    {
      "cell_type": "markdown",
      "metadata": {
        "id": "FO9oqB8xfS80"
      },
      "source": [
        "При этом должен быть реализован функционал, который позволяет послать значение z в генератор и должно вернуться соответствующее значение факториала последовательным применением функции next. Если это невозможно (генератор исчерпался), должно быть выведено сообщение об этом и последнее возможное значение факториала.\n",
        "\n",
        "Данный функционал должен быть реализован в классе GeneratorManeger:"
      ]
    },
    {
      "cell_type": "code",
      "metadata": {
        "id": "JU56AQAKfS81"
      },
      "source": [
        "class GeneratorManeger(object):\n",
        "    def __init__(self, *fact_desc):\n",
        "        self.gens = [fact_generator(n) for n in fact_desc]\n",
        "        self.max_steps = [n for n in fact_desc]\n",
        "        self.cur_steps = [1] * len(fact_desc)\n",
        "        self.num_active = len(fact_desc)\n",
        "    \n",
        "    def send(self, z):\n",
        "        if self.num_active == 0:\n",
        "            return 'All generators are closed'\n",
        "\n",
        "        for i, gen in enumerate(self.gens):\n",
        "            if self.cur_steps[i] <= z <= self.max_steps[i]:\n",
        "                value = [next(gen) for _ in range(self.cur_steps[i], z + 1)][-1]\n",
        "                \n",
        "                self.cur_steps[i] = z + 1\n",
        "                if self.max_steps[i] == z:\n",
        "                    self.num_active -= 1\n",
        "\n",
        "                return value\n",
        "\n",
        "        return f\"Can't calculate {z}!\""
      ],
      "execution_count": null,
      "outputs": []
    },
    {
      "cell_type": "markdown",
      "metadata": {
        "id": "p_gPbtLafS81"
      },
      "source": [
        "fact_desc - это список из чисел $n_i$ для каждого из которых создается свой генератор fact_generator($n_i$) и сохраняется в классе GeneratorManeger.\n",
        "\n",
        "send должна выбрать любой генератор из еще не исчерпавшихся и вычислить значение факториала. Если таких нет, сообщить об этом.\n",
        "\n",
        "Пример работы:"
      ]
    },
    {
      "cell_type": "code",
      "metadata": {
        "id": "zXq95u-jfS82"
      },
      "source": [
        "gm = GeneratorManeger(3, 6)"
      ],
      "execution_count": null,
      "outputs": []
    },
    {
      "cell_type": "code",
      "metadata": {
        "id": "cQosTZ09fS82",
        "outputId": "033ab2de-53e7-4118-893a-3a4b00e3db39"
      },
      "source": [
        "gm.send(3)"
      ],
      "execution_count": null,
      "outputs": [
        {
          "output_type": "execute_result",
          "data": {
            "text/plain": [
              "6"
            ]
          },
          "metadata": {
            "tags": []
          },
          "execution_count": 17
        }
      ]
    },
    {
      "cell_type": "code",
      "metadata": {
        "id": "i2h3vT2EfS82",
        "outputId": "9bfed786-bb9b-4636-d703-85b9058c9e5c"
      },
      "source": [
        "gm.send(3)"
      ],
      "execution_count": null,
      "outputs": [
        {
          "output_type": "execute_result",
          "data": {
            "text/plain": [
              "6"
            ]
          },
          "metadata": {
            "tags": []
          },
          "execution_count": 18
        }
      ]
    },
    {
      "cell_type": "code",
      "metadata": {
        "id": "ApFGzvivfS83",
        "outputId": "b519fc92-5211-41f1-f4c9-eb6a299c2aad"
      },
      "source": [
        "gm.send(3)"
      ],
      "execution_count": null,
      "outputs": [
        {
          "output_type": "execute_result",
          "data": {
            "text/plain": [
              "\"Can't calculate 3!\""
            ]
          },
          "metadata": {
            "tags": []
          },
          "execution_count": 19
        }
      ]
    },
    {
      "cell_type": "code",
      "metadata": {
        "id": "xmRB2kPgfS84",
        "outputId": "73ba69fa-fd1d-4165-b4fc-9295d2b67548"
      },
      "source": [
        "gm.send(5)"
      ],
      "execution_count": null,
      "outputs": [
        {
          "output_type": "execute_result",
          "data": {
            "text/plain": [
              "120"
            ]
          },
          "metadata": {
            "tags": []
          },
          "execution_count": 20
        }
      ]
    },
    {
      "cell_type": "code",
      "metadata": {
        "id": "Gn0y0ZJofS84",
        "outputId": "97309a75-1862-45fa-85e0-5f0e3b94ebe1"
      },
      "source": [
        "\"Can't calculate 7!\""
      ],
      "execution_count": null,
      "outputs": [
        {
          "output_type": "execute_result",
          "data": {
            "text/plain": [
              "\"Can't calculate 7!\""
            ]
          },
          "metadata": {
            "tags": []
          },
          "execution_count": 21
        }
      ]
    },
    {
      "cell_type": "code",
      "metadata": {
        "id": "eJrrpxAgfS84",
        "outputId": "0899d182-c696-4037-e5b4-65cd4898e876"
      },
      "source": [
        "gm.send(6)"
      ],
      "execution_count": null,
      "outputs": [
        {
          "output_type": "execute_result",
          "data": {
            "text/plain": [
              "720"
            ]
          },
          "metadata": {
            "tags": []
          },
          "execution_count": 22
        }
      ]
    },
    {
      "cell_type": "code",
      "metadata": {
        "id": "7aWeZt_6fS85",
        "outputId": "169e4176-8e1a-4ede-9051-8b7e73981483"
      },
      "source": [
        "gm.send(1)"
      ],
      "execution_count": null,
      "outputs": [
        {
          "output_type": "execute_result",
          "data": {
            "text/plain": [
              "'All generators are closed'"
            ]
          },
          "metadata": {
            "tags": []
          },
          "execution_count": 23
        }
      ]
    }
  ]
}