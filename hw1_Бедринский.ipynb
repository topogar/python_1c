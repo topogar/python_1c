{
  "nbformat": 4,
  "nbformat_minor": 0,
  "metadata": {
    "colab": {
      "name": "hw1_Бедринский.ipynb",
      "provenance": [],
      "collapsed_sections": []
    },
    "kernelspec": {
      "name": "python3",
      "display_name": "Python 3"
    },
    "language_info": {
      "name": "python"
    }
  },
  "cells": [
    {
      "cell_type": "markdown",
      "metadata": {
        "id": "4OgfT5Omg_uP"
      },
      "source": [
        "Реализовать функцию, которая имеет один позициональный (`texts`) и один необязательный keyword аргумент (`dictionary`). Вернуть функция должна обновленный словарь слов dictionary, где каждому слову соответствует его уникальный индекс. При этом возвращается в функции всегда второй аргумент. Если передан второй аргумент, то он меняется."
      ]
    },
    {
      "cell_type": "code",
      "metadata": {
        "id": "O4-DlKyMeRnQ"
      },
      "source": [
        "def create_dict(texts, dictionary = None):\n",
        "    \"\"\"\n",
        "    Параметры:\n",
        "        texts: list[str] -- новый корпус предложений\n",
        "        dictionary: Optional[dict[str, int]] -- существующий словарь слов\n",
        "\n",
        "    Возвращает:\n",
        "        Обновленный словарь слов\n",
        "    \"\"\"\n",
        "\n",
        "    dictionary = dictionary or {}\n",
        "    for text in texts:\n",
        "        for word in text.split(' '):\n",
        "            if word not in dictionary:\n",
        "                dictionary[word] = len(dictionary)\n",
        "    return dictionary"
      ],
      "execution_count": null,
      "outputs": []
    },
    {
      "cell_type": "code",
      "metadata": {
        "colab": {
          "base_uri": "https://localhost:8080/"
        },
        "id": "qPbgqMGAgVox",
        "outputId": "2eefe8a2-927e-488d-b387-71f648c3cc41"
      },
      "source": [
        "d1 = create_dict([\"Чо, как\"])\n",
        "d1"
      ],
      "execution_count": null,
      "outputs": [
        {
          "output_type": "execute_result",
          "data": {
            "text/plain": [
              "{'Чо,': 0, 'как': 1}"
            ]
          },
          "metadata": {
            "tags": []
          },
          "execution_count": 2
        }
      ]
    },
    {
      "cell_type": "code",
      "metadata": {
        "colab": {
          "base_uri": "https://localhost:8080/"
        },
        "id": "-Fzinx4rgilE",
        "outputId": "14dd098b-f410-4041-e7c3-23001fdfd2a2"
      },
      "source": [
        "d2 = create_dict([\"Чо , как\", \"нормально а ти Чо\"], d1)\n",
        "\n",
        "d2, d1 is d2"
      ],
      "execution_count": null,
      "outputs": [
        {
          "output_type": "execute_result",
          "data": {
            "text/plain": [
              "({',': 3, 'Чо': 2, 'Чо,': 0, 'а': 5, 'как': 1, 'нормально': 4, 'ти': 6}, True)"
            ]
          },
          "metadata": {
            "tags": []
          },
          "execution_count": 3
        }
      ]
    },
    {
      "cell_type": "code",
      "metadata": {
        "id": "OEeh3h21b9LJ"
      },
      "source": [
        ""
      ],
      "execution_count": null,
      "outputs": []
    }
  ]
}