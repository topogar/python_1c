{
  "nbformat": 4,
  "nbformat_minor": 0,
  "metadata": {
    "kernelspec": {
      "display_name": "Python 3",
      "language": "python",
      "name": "python3"
    },
    "language_info": {
      "codemirror_mode": {
        "name": "ipython",
        "version": 3
      },
      "file_extension": ".py",
      "mimetype": "text/x-python",
      "name": "python",
      "nbconvert_exporter": "python",
      "pygments_lexer": "ipython3",
      "version": "3.6.0"
    },
    "colab": {
      "name": "hw3_Бедринский.ipynb",
      "provenance": [],
      "collapsed_sections": []
    }
  },
  "cells": [
    {
      "cell_type": "markdown",
      "metadata": {
        "id": "FuQiSpcJeg8m"
      },
      "source": [
        "# Задание 3"
      ]
    },
    {
      "cell_type": "code",
      "metadata": {
        "id": "F13uDIgo5DaU"
      },
      "source": [
        "from collections import OrderedDict\n",
        "import functools\n",
        "import inspect\n",
        "import datetime\n",
        "import time\n",
        "import sys\n",
        "from functools import lru_cache"
      ],
      "execution_count": null,
      "outputs": []
    },
    {
      "cell_type": "markdown",
      "metadata": {
        "id": "UvT1qqqVeg8o"
      },
      "source": [
        "## 1. Декоратор @cached (0.3 балла)"
      ]
    },
    {
      "cell_type": "markdown",
      "metadata": {
        "id": "GeTVjxkkeg8o"
      },
      "source": [
        "#### Реализуйте класс для хранения результатов выполнения функции\n",
        "\n",
        "* max_count - максимальное число хранимых результатов. Если число результатов превышает max_count, требуется выбросить первый результат, т. е. в кеше должно храниться не более max_count последних результатов.\n",
        "* продумайте архитектуру кеша так, чтобы для функций:\n",
        "\n",
        "<code>\n",
        "@cached\n",
        "def f1():\n",
        "    pass\n",
        "\n",
        "@cached\n",
        "def f2():\n",
        "    pass\n",
        "</code>    \n",
        "должны иметь по max_count хранимых последних результатов, и т. д.\n",
        "\n",
        "<b>P. S.</b>\n",
        "\n",
        "* Считайте, что функция не имеет состояния (зависит только от передаваемых в нее аргументов).\n",
        "* Храните данные так, чтобы из функции нельзя напрямую было получить закешированные результаты (только через \\_\\_closer\\_\\_).\n",
        "\n",
        "<b>Рекомендации:</b>\n",
        "\n",
        "* Для хранения данных используйте OrderedDict.\n",
        "* Декорируйте wrapper с @functools.wraps(func)"
      ]
    },
    {
      "cell_type": "code",
      "metadata": {
        "collapsed": true,
        "id": "2dIGcQH6eg8p"
      },
      "source": [
        "class LruCache(object):\n",
        "    def __init__(self, max_count):\n",
        "        self.max_count = max_count\n",
        "        # в современных версиях и обычный dict отсортированный, но ладно.\n",
        "        self.cache = OrderedDict()\n",
        "\n",
        "    def __getitem__(self, key):\n",
        "        if key not in self.cache:\n",
        "            return None\n",
        "        else:\n",
        "            self.cache[key] = self.cache.pop(key)\n",
        "            return self.cache[key]\n",
        "\n",
        "    def __setitem__(self, key, value):\n",
        "        if key in self.cache:\n",
        "            del self.cache[key]\n",
        "        self.cache[key] = value\n",
        "        if len(self.cache) > self.max_count:\n",
        "            self.cache.popitem(last=False)"
      ],
      "execution_count": null,
      "outputs": []
    },
    {
      "cell_type": "markdown",
      "metadata": {
        "id": "Tifjnq2neg8p"
      },
      "source": [
        "#### Реализуйте декоратор"
      ]
    },
    {
      "cell_type": "code",
      "metadata": {
        "collapsed": true,
        "id": "OonxCtNWeg8p"
      },
      "source": [
        "def cached(max_count):\n",
        "\n",
        "    def decorator(func):\n",
        "        cache = LruCache(max_count)\n",
        "        # разные аргументы args и kwargs могут на самом деле быть одним и тем же\n",
        "        signature = inspect.signature(func)\n",
        "        @functools.wraps(func)\n",
        "        def wrapper(*args, **kwargs):\n",
        "            key_mut = signature.bind(*args, **kwargs).arguments\n",
        "            key_immut = tuple([(arg, key_mut[arg]) for arg in sorted(key_mut.keys())])\n",
        "\n",
        "            # перегрузили гетитем\n",
        "            result = cache[key_immut]\n",
        "            if result is None:\n",
        "                result = func(*args, **kwargs)\n",
        "                cache[key_immut] = result\n",
        "            \n",
        "            return result\n",
        "        \n",
        "        return wrapper\n",
        "    \n",
        "    return decorator"
      ],
      "execution_count": null,
      "outputs": []
    },
    {
      "cell_type": "markdown",
      "metadata": {
        "id": "zBR4QnTpeg8q"
      },
      "source": [
        "#### Проверьте использование декоратора"
      ]
    },
    {
      "cell_type": "code",
      "metadata": {
        "id": "4kRqZDMjAmg_"
      },
      "source": [
        "def check_time(func, n):\n",
        "    start = time.time()\n",
        "    for i in range(n):\n",
        "        func(i + 1)\n",
        "    return time.time() - start"
      ],
      "execution_count": null,
      "outputs": []
    },
    {
      "cell_type": "code",
      "metadata": {
        "id": "YWMICHfjeg8q"
      },
      "source": [
        "@cached(20)\n",
        "def fact(n):\n",
        "    if n < 2:\n",
        "        return 1\n",
        "    return fact(n-1) * n\n",
        "\n",
        "def fact1(n):\n",
        "    if n < 2:\n",
        "        return 1\n",
        "    return fact1(n-1) * n\n",
        "\n",
        "@lru_cache(maxsize=20)\n",
        "def fact2(n):\n",
        "    if n < 2:\n",
        "        return 1\n",
        "    return fact1(n-1) * n"
      ],
      "execution_count": null,
      "outputs": []
    },
    {
      "cell_type": "markdown",
      "metadata": {
        "id": "PpYoS1uZeg8q"
      },
      "source": [
        "#### Сравните свою реализацию с lru_cache из functools"
      ]
    },
    {
      "cell_type": "code",
      "metadata": {
        "colab": {
          "base_uri": "https://localhost:8080/"
        },
        "id": "1SXw_wh8_w9z",
        "outputId": "ed773ea8-eda8-42cf-8037-f442268ab0be"
      },
      "source": [
        "print(\"С нашим cache\", check_time(fact, 600))\n",
        "print(\"С lru_cache\", check_time(fact2, 600))\n",
        "print(\"Без кэша\", check_time(fact1, 600))"
      ],
      "execution_count": null,
      "outputs": [
        {
          "output_type": "stream",
          "text": [
            "С нашим cache 0.013468742370605469\n",
            "С lru_cache 0.04484224319458008\n",
            "Без кэша 0.04625749588012695\n"
          ],
          "name": "stdout"
        }
      ]
    },
    {
      "cell_type": "markdown",
      "metadata": {
        "id": "PoQMLpn8B7fR"
      },
      "source": [
        "Моя реализация работает неприлично хорошо)"
      ]
    },
    {
      "cell_type": "markdown",
      "metadata": {
        "collapsed": true,
        "id": "8ZsLL3xpeg8s"
      },
      "source": [
        "## 2. Декоратор @checked (0.3 балла)\n",
        "\n",
        "Напишите декоратор, который будет вызывать исключение (raise TypeError), если в него переданы аргументы не тех типов.\n",
        "\n",
        "<b>P. S.</b> Разберитесь с модулем typing.\n",
        "\n",
        "<b>Рекомендации:</b>\n",
        "\n",
        "* Декорируйте wrapper с @functools.wraps(func)\n",
        "* Чтобы кинуть иключение используйте конструкцию типа:\n",
        "<code>\n",
        "if < some_condtion >:\n",
        "    raise TypeError\n",
        "</code>"
      ]
    },
    {
      "cell_type": "code",
      "metadata": {
        "collapsed": true,
        "id": "A5Vr22ineg8s"
      },
      "source": [
        "def checked(*types):\n",
        "\n",
        "    def decorator(func):\n",
        "\n",
        "        @functools.wraps(func)\n",
        "        def wrapper(*args, **kwargs):\n",
        "            if len(types) != len(args):\n",
        "                raise TypeError(\"Передано не то количество аргументов\")\n",
        "\n",
        "            for arg, tp in zip(args, types):\n",
        "                if not isinstance(arg, tp):\n",
        "                    raise TypeError(f\"Тип {type(arg)} не соответствует типу {tp}\")\n",
        "\n",
        "            return func(*args, **kwargs)\n",
        "        \n",
        "        return wrapper\n",
        "    \n",
        "    return decorator"
      ],
      "execution_count": null,
      "outputs": []
    },
    {
      "cell_type": "markdown",
      "metadata": {
        "id": "FLf1_E_qeg8s"
      },
      "source": [
        "#### Проверьте использование декоратора"
      ]
    },
    {
      "cell_type": "code",
      "metadata": {
        "collapsed": true,
        "id": "B75luNCEeg8s"
      },
      "source": [
        "from typing import List\n",
        "\n",
        "# Пример\n",
        "@checked(str, int, list)\n",
        "def strange_func(a: str, b: int, c: List):\n",
        "    pass"
      ],
      "execution_count": null,
      "outputs": []
    },
    {
      "cell_type": "code",
      "metadata": {
        "id": "1qVv4kI9eg8t"
      },
      "source": [
        "strange_func('Егор', 20, ['Москва', 'Долгопрудный'])"
      ],
      "execution_count": null,
      "outputs": []
    },
    {
      "cell_type": "code",
      "metadata": {
        "colab": {
          "base_uri": "https://localhost:8080/",
          "height": 283
        },
        "id": "YDRus35iDdBP",
        "outputId": "a4ac0257-107c-4526-ccd4-b409ca6e03ac"
      },
      "source": [
        "strange_func('Егор', 20, ['Москва', 'Долгопрудный'], 'Пора писать диплом?')"
      ],
      "execution_count": null,
      "outputs": [
        {
          "output_type": "error",
          "ename": "TypeError",
          "evalue": "ignored",
          "traceback": [
            "\u001b[0;31m---------------------------------------------------------------------------\u001b[0m",
            "\u001b[0;31mTypeError\u001b[0m                                 Traceback (most recent call last)",
            "\u001b[0;32m<ipython-input-99-907dd19679fd>\u001b[0m in \u001b[0;36m<module>\u001b[0;34m()\u001b[0m\n\u001b[0;32m----> 1\u001b[0;31m \u001b[0mstrange_func\u001b[0m\u001b[0;34m(\u001b[0m\u001b[0;34m'Егор'\u001b[0m\u001b[0;34m,\u001b[0m \u001b[0;36m20\u001b[0m\u001b[0;34m,\u001b[0m \u001b[0;34m[\u001b[0m\u001b[0;34m'Москва'\u001b[0m\u001b[0;34m,\u001b[0m \u001b[0;34m'Долгопрудный'\u001b[0m\u001b[0;34m]\u001b[0m\u001b[0;34m,\u001b[0m \u001b[0;34m'Пора писать диплом?'\u001b[0m\u001b[0;34m)\u001b[0m\u001b[0;34m\u001b[0m\u001b[0;34m\u001b[0m\u001b[0m\n\u001b[0m",
            "\u001b[0;32m<ipython-input-95-8383721e4e24>\u001b[0m in \u001b[0;36mwrapper\u001b[0;34m(*args, **kwargs)\u001b[0m\n\u001b[1;32m      6\u001b[0m         \u001b[0;32mdef\u001b[0m \u001b[0mwrapper\u001b[0m\u001b[0;34m(\u001b[0m\u001b[0;34m*\u001b[0m\u001b[0margs\u001b[0m\u001b[0;34m,\u001b[0m \u001b[0;34m**\u001b[0m\u001b[0mkwargs\u001b[0m\u001b[0;34m)\u001b[0m\u001b[0;34m:\u001b[0m\u001b[0;34m\u001b[0m\u001b[0;34m\u001b[0m\u001b[0m\n\u001b[1;32m      7\u001b[0m             \u001b[0;32mif\u001b[0m \u001b[0mlen\u001b[0m\u001b[0;34m(\u001b[0m\u001b[0mtypes\u001b[0m\u001b[0;34m)\u001b[0m \u001b[0;34m!=\u001b[0m \u001b[0mlen\u001b[0m\u001b[0;34m(\u001b[0m\u001b[0margs\u001b[0m\u001b[0;34m)\u001b[0m\u001b[0;34m:\u001b[0m\u001b[0;34m\u001b[0m\u001b[0;34m\u001b[0m\u001b[0m\n\u001b[0;32m----> 8\u001b[0;31m                 \u001b[0;32mraise\u001b[0m \u001b[0mTypeError\u001b[0m\u001b[0;34m(\u001b[0m\u001b[0;34m\"Передано не то количество аргументов\"\u001b[0m\u001b[0;34m)\u001b[0m\u001b[0;34m\u001b[0m\u001b[0;34m\u001b[0m\u001b[0m\n\u001b[0m\u001b[1;32m      9\u001b[0m             \u001b[0;32mfor\u001b[0m \u001b[0marg\u001b[0m\u001b[0;34m,\u001b[0m \u001b[0mtp\u001b[0m \u001b[0;32min\u001b[0m \u001b[0mzip\u001b[0m\u001b[0;34m(\u001b[0m\u001b[0margs\u001b[0m\u001b[0;34m,\u001b[0m \u001b[0mtypes\u001b[0m\u001b[0;34m)\u001b[0m\u001b[0;34m:\u001b[0m\u001b[0;34m\u001b[0m\u001b[0;34m\u001b[0m\u001b[0m\n\u001b[1;32m     10\u001b[0m                 \u001b[0;32mif\u001b[0m \u001b[0;32mnot\u001b[0m \u001b[0misinstance\u001b[0m\u001b[0;34m(\u001b[0m\u001b[0marg\u001b[0m\u001b[0;34m,\u001b[0m \u001b[0mtp\u001b[0m\u001b[0;34m)\u001b[0m\u001b[0;34m:\u001b[0m\u001b[0;34m\u001b[0m\u001b[0;34m\u001b[0m\u001b[0m\n",
            "\u001b[0;31mTypeError\u001b[0m: Передано не то количество аргументов"
          ]
        }
      ]
    },
    {
      "cell_type": "markdown",
      "metadata": {
        "id": "J5L7Wbp5Dkzr"
      },
      "source": [
        "Видимо не пора :с"
      ]
    },
    {
      "cell_type": "code",
      "metadata": {
        "colab": {
          "base_uri": "https://localhost:8080/",
          "height": 283
        },
        "id": "7DbxQ4PjDmrQ",
        "outputId": "7e5a65f5-0cd6-4e58-d40b-00f0a6727008"
      },
      "source": [
        "strange_func(20, 'Егор', ['Москва', 'Долгопрудный'])"
      ],
      "execution_count": null,
      "outputs": [
        {
          "output_type": "error",
          "ename": "TypeError",
          "evalue": "ignored",
          "traceback": [
            "\u001b[0;31m---------------------------------------------------------------------------\u001b[0m",
            "\u001b[0;31mTypeError\u001b[0m                                 Traceback (most recent call last)",
            "\u001b[0;32m<ipython-input-101-1547ca046451>\u001b[0m in \u001b[0;36m<module>\u001b[0;34m()\u001b[0m\n\u001b[0;32m----> 1\u001b[0;31m \u001b[0mstrange_func\u001b[0m\u001b[0;34m(\u001b[0m\u001b[0;36m20\u001b[0m\u001b[0;34m,\u001b[0m \u001b[0;34m'Егор'\u001b[0m\u001b[0;34m,\u001b[0m \u001b[0;34m[\u001b[0m\u001b[0;34m'Москва'\u001b[0m\u001b[0;34m,\u001b[0m \u001b[0;34m'Долгопрудный'\u001b[0m\u001b[0;34m]\u001b[0m\u001b[0;34m)\u001b[0m\u001b[0;34m\u001b[0m\u001b[0;34m\u001b[0m\u001b[0m\n\u001b[0m",
            "\u001b[0;32m<ipython-input-95-8383721e4e24>\u001b[0m in \u001b[0;36mwrapper\u001b[0;34m(*args, **kwargs)\u001b[0m\n\u001b[1;32m      9\u001b[0m             \u001b[0;32mfor\u001b[0m \u001b[0marg\u001b[0m\u001b[0;34m,\u001b[0m \u001b[0mtp\u001b[0m \u001b[0;32min\u001b[0m \u001b[0mzip\u001b[0m\u001b[0;34m(\u001b[0m\u001b[0margs\u001b[0m\u001b[0;34m,\u001b[0m \u001b[0mtypes\u001b[0m\u001b[0;34m)\u001b[0m\u001b[0;34m:\u001b[0m\u001b[0;34m\u001b[0m\u001b[0;34m\u001b[0m\u001b[0m\n\u001b[1;32m     10\u001b[0m                 \u001b[0;32mif\u001b[0m \u001b[0;32mnot\u001b[0m \u001b[0misinstance\u001b[0m\u001b[0;34m(\u001b[0m\u001b[0marg\u001b[0m\u001b[0;34m,\u001b[0m \u001b[0mtp\u001b[0m\u001b[0;34m)\u001b[0m\u001b[0;34m:\u001b[0m\u001b[0;34m\u001b[0m\u001b[0;34m\u001b[0m\u001b[0m\n\u001b[0;32m---> 11\u001b[0;31m                     \u001b[0;32mraise\u001b[0m \u001b[0mTypeError\u001b[0m\u001b[0;34m(\u001b[0m\u001b[0;34mf\"Тип {type(arg)} не соответствует типу {tp}\"\u001b[0m\u001b[0;34m)\u001b[0m\u001b[0;34m\u001b[0m\u001b[0;34m\u001b[0m\u001b[0m\n\u001b[0m\u001b[1;32m     12\u001b[0m             \u001b[0;32mreturn\u001b[0m \u001b[0mfunc\u001b[0m\u001b[0;34m(\u001b[0m\u001b[0;34m*\u001b[0m\u001b[0margs\u001b[0m\u001b[0;34m,\u001b[0m \u001b[0;34m**\u001b[0m\u001b[0mkwargs\u001b[0m\u001b[0;34m)\u001b[0m\u001b[0;34m\u001b[0m\u001b[0;34m\u001b[0m\u001b[0m\n\u001b[1;32m     13\u001b[0m \u001b[0;34m\u001b[0m\u001b[0m\n",
            "\u001b[0;31mTypeError\u001b[0m: Тип <class 'int'> не соответствует типу <class 'str'>"
          ]
        }
      ]
    },
    {
      "cell_type": "markdown",
      "metadata": {
        "id": "iC19uiEYeg8t"
      },
      "source": [
        "## 3. Декоратор @Logger (0.4 балла)\n",
        "\n",
        "Напишите полноценный logger для вызовов вашей функции. Декоратор должен иметь следующие опции:\n",
        "\n",
        "* Выбор файла в который будет производиться запись: sys.stdout, sys.stderr, локальный файл (передается путь к файлу, если файла нет, то создать, иначе дописывать в конец).\n",
        "* Формат записи в логера: \"<i>index data time functio_name \\*args \\**kwargs result</i>\"\n",
        "* Логер должен быть один для всех функций.\n",
        "\n",
        "<b>Рекомендации:</b>\n",
        "\n",
        "* Декорируйте wrapper с @functools.wraps(func)\n",
        "* Создайте отдельный класс Logger для работы с выводом данных вызовов функций в файл."
      ]
    },
    {
      "cell_type": "markdown",
      "metadata": {
        "id": "PtIuQtNBIDwk"
      },
      "source": [
        "В задании просят один логгер для всех функций, применяем паттерн синглтон"
      ]
    },
    {
      "cell_type": "code",
      "metadata": {
        "collapsed": true,
        "id": "X6ho0oeceg8t"
      },
      "source": [
        "def singleton(cls):\n",
        "    instance = None\n",
        "\n",
        "    @functools.wraps(cls)\n",
        "    def getinstance(*args, **kwargs):\n",
        "        nonlocal instance\n",
        "        if instance is None:\n",
        "            instance = cls(*args, **kwargs)\n",
        "        return instance\n",
        "\n",
        "    return getinstance"
      ],
      "execution_count": null,
      "outputs": []
    },
    {
      "cell_type": "code",
      "metadata": {
        "id": "0lrhIWoUHsM-"
      },
      "source": [
        "a = singleton(LruCache)"
      ],
      "execution_count": null,
      "outputs": []
    },
    {
      "cell_type": "code",
      "metadata": {
        "colab": {
          "base_uri": "https://localhost:8080/"
        },
        "id": "yCL7aaDaH1Kp",
        "outputId": "4d443032-edda-421a-ed7c-8d7afb141a20"
      },
      "source": [
        "a(10)"
      ],
      "execution_count": null,
      "outputs": [
        {
          "output_type": "execute_result",
          "data": {
            "text/plain": [
              "<__main__.LruCache at 0x7f285756ba10>"
            ]
          },
          "metadata": {
            "tags": []
          },
          "execution_count": 228
        }
      ]
    },
    {
      "cell_type": "code",
      "metadata": {
        "colab": {
          "base_uri": "https://localhost:8080/"
        },
        "id": "gUhLnkcXH1hI",
        "outputId": "f918f769-b858-4e86-cf51-b45c28d5b388"
      },
      "source": [
        "a(10)"
      ],
      "execution_count": null,
      "outputs": [
        {
          "output_type": "execute_result",
          "data": {
            "text/plain": [
              "<__main__.LruCache at 0x7f285756ba10>"
            ]
          },
          "metadata": {
            "tags": []
          },
          "execution_count": 229
        }
      ]
    },
    {
      "cell_type": "code",
      "metadata": {
        "colab": {
          "base_uri": "https://localhost:8080/"
        },
        "id": "YXE67e8nH2FN",
        "outputId": "232c2511-5b57-4209-8b29-87f142dce4b5"
      },
      "source": [
        "a(1)"
      ],
      "execution_count": null,
      "outputs": [
        {
          "output_type": "execute_result",
          "data": {
            "text/plain": [
              "<__main__.LruCache at 0x7f285756ba10>"
            ]
          },
          "metadata": {
            "tags": []
          },
          "execution_count": 230
        }
      ]
    },
    {
      "cell_type": "code",
      "metadata": {
        "id": "FmCvjdGbILg8"
      },
      "source": [
        "@singleton\n",
        "class Logger:\n",
        "    def __init__(self):\n",
        "        self.index = 0\n",
        "    \n",
        "    def log(self, file, func_nm, args, kwargs, result):\n",
        "        log_line = f'{self.index} {datetime.datetime.now()} {func_nm} {args} {kwargs} {result}\\n'\n",
        "\n",
        "        if file in [sys.stdout, sys.stderr]:\n",
        "            file.write(log_line)\n",
        "        else:\n",
        "            with open(file, 'a') as f:\n",
        "                f.write(log_line)\n",
        "                \n",
        "        self.index += 1"
      ],
      "execution_count": null,
      "outputs": []
    },
    {
      "cell_type": "code",
      "metadata": {
        "id": "otiW6wMsJVs_"
      },
      "source": [
        "def logger(file=sys.stdout):\n",
        "    \n",
        "    logger_ = Logger()\n",
        "    def decorator(func):\n",
        "\n",
        "        @functools.wraps(func)\n",
        "        def wrapper(*args, **kwargs):\n",
        "            result = func(*args, **kwargs)\n",
        "\n",
        "            logger_.log(\n",
        "                file,\n",
        "                func.__name__, \n",
        "                args, \n",
        "                kwargs, \n",
        "                result\n",
        "            )\n",
        "\n",
        "            return result\n",
        "\n",
        "        return wrapper\n",
        "\n",
        "    return decorator"
      ],
      "execution_count": null,
      "outputs": []
    },
    {
      "cell_type": "markdown",
      "metadata": {
        "id": "irsWqsaeMCJu"
      },
      "source": [
        "Посмотрим, что все ок"
      ]
    },
    {
      "cell_type": "code",
      "metadata": {
        "id": "7REvf0dEKNPb"
      },
      "source": [
        "@logger(sys.stdout)\n",
        "def test1(*args, **kwargs):\n",
        "    return 0\n",
        "\n",
        "@logger(sys.stderr)\n",
        "def test2(*args, **kwargs):\n",
        "    return 1\n",
        "\n",
        "@logger('example_.txt')\n",
        "def test3(*args, **kwargs):\n",
        "    return 2"
      ],
      "execution_count": null,
      "outputs": []
    },
    {
      "cell_type": "code",
      "metadata": {
        "colab": {
          "base_uri": "https://localhost:8080/"
        },
        "id": "VzzUGtYIKTwp",
        "outputId": "78f4a67b-cd43-4f3f-fa2f-ad3c5850e500"
      },
      "source": [
        "test1(1, a=2)"
      ],
      "execution_count": null,
      "outputs": [
        {
          "output_type": "stream",
          "text": [
            "4 2021-04-30 19:09:35.663659 test1 (1,) {'a': 2} 0\n"
          ],
          "name": "stdout"
        },
        {
          "output_type": "execute_result",
          "data": {
            "text/plain": [
              "0"
            ]
          },
          "metadata": {
            "tags": []
          },
          "execution_count": 238
        }
      ]
    },
    {
      "cell_type": "code",
      "metadata": {
        "colab": {
          "base_uri": "https://localhost:8080/"
        },
        "id": "92i7eodRKooj",
        "outputId": "e4d9d955-2449-40dd-9017-be16fdf5709f"
      },
      "source": [
        "test2(2, b=3)"
      ],
      "execution_count": null,
      "outputs": [
        {
          "output_type": "stream",
          "text": [
            "5 2021-04-30 19:09:36.003683 test2 (2,) {'b': 3} 1\n"
          ],
          "name": "stderr"
        },
        {
          "output_type": "execute_result",
          "data": {
            "text/plain": [
              "1"
            ]
          },
          "metadata": {
            "tags": []
          },
          "execution_count": 239
        }
      ]
    },
    {
      "cell_type": "code",
      "metadata": {
        "colab": {
          "base_uri": "https://localhost:8080/"
        },
        "id": "7d862uvRKxQP",
        "outputId": "a364ba4a-0cbb-461e-a644-dffc68ec9e6a"
      },
      "source": [
        "test3(3, c=4)\n",
        "with open('example_.txt', 'r') as f:\n",
        "    print(f.readlines()[-1])"
      ],
      "execution_count": null,
      "outputs": [
        {
          "output_type": "stream",
          "text": [
            "6 2021-04-30 19:09:36.325402 test3 (3,) {'c': 4} 2\n",
            "\n"
          ],
          "name": "stdout"
        }
      ]
    },
    {
      "cell_type": "code",
      "metadata": {
        "id": "8Gh4fXODLAmd"
      },
      "source": [
        ""
      ],
      "execution_count": null,
      "outputs": []
    }
  ]
}